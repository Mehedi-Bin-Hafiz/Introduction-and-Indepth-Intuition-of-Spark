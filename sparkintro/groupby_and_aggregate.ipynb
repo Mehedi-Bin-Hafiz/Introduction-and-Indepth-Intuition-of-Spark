{
 "cells": [
  {
   "cell_type": "code",
   "execution_count": 96,
   "id": "244779fb",
   "metadata": {},
   "outputs": [
    {
     "name": "stdout",
     "output_type": "stream",
     "text": [
      "+-------+----+----------+------+\n",
      "|   name| age|experience|salary|\n",
      "+-------+----+----------+------+\n",
      "|karim a|  22|       1.0|  3333|\n",
      "|karim v|  22|       3.0|  4444|\n",
      "|karim b|  22|       4.0|  3333|\n",
      "|karim c|  23|       2.0|  2222|\n",
      "|karim d|  23|       1.0|  5555|\n",
      "|karim b|  24|       4.0|  3333|\n",
      "|karim c|  23|       2.0|  2222|\n",
      "|karim d|  23|       1.0|  5555|\n",
      "| mehedi|  23|       2.0|  1111|\n",
      "|  mahim|  13|      null|  null|\n",
      "|   null|  12|       2.0|  3333|\n",
      "|   null|  36|      null|  null|\n",
      "|   null|null|      null|  null|\n",
      "+-------+----+----------+------+\n",
      "\n"
     ]
    }
   ],
   "source": [
    "from pyspark.sql import SparkSession\n",
    "from pyspark.sql.functions import col,lit\n",
    "session = SparkSession.builder.appName('Filter operation').getOrCreate()\n",
    "df = session.read.csv('dataset/missingdataset.csv',header=True, inferSchema=True)\n",
    "df.show()"
   ]
  },
  {
   "cell_type": "code",
   "execution_count": 97,
   "id": "e2b07c2c",
   "metadata": {},
   "outputs": [
    {
     "name": "stdout",
     "output_type": "stream",
     "text": [
      "+-------+---+----------+------+\n",
      "|   name|age|experience|salary|\n",
      "+-------+---+----------+------+\n",
      "|karim a| 22|       1.0|  3333|\n",
      "|karim v| 22|       3.0|  4444|\n",
      "|karim b| 22|       4.0|  3333|\n",
      "|karim c| 23|       2.0|  2222|\n",
      "|karim d| 23|       1.0|  5555|\n",
      "|karim b| 24|       4.0|  3333|\n",
      "|karim c| 23|       2.0|  2222|\n",
      "|karim d| 23|       1.0|  5555|\n",
      "| mehedi| 23|       2.0|  1111|\n",
      "+-------+---+----------+------+\n",
      "\n"
     ]
    }
   ],
   "source": [
    "df = df.na.drop(how='any')\n",
    "df.show()"
   ]
  },
  {
   "cell_type": "markdown",
   "id": "768c30d7",
   "metadata": {},
   "source": [
    "## Group by\n"
   ]
  },
  {
   "cell_type": "code",
   "execution_count": 98,
   "id": "7c83b5a5",
   "metadata": {},
   "outputs": [
    {
     "name": "stdout",
     "output_type": "stream",
     "text": [
      "+-------+-----------+\n",
      "|   name|sum(salary)|\n",
      "+-------+-----------+\n",
      "|karim a|       3333|\n",
      "|karim c|       4444|\n",
      "|karim v|       4444|\n",
      "| mehedi|       1111|\n",
      "|karim d|      11110|\n",
      "|karim b|       6666|\n",
      "+-------+-----------+\n",
      "\n"
     ]
    }
   ],
   "source": [
    "gdf = df.groupBy('name').sum('salary')\n",
    "gdf.show()"
   ]
  },
  {
   "cell_type": "markdown",
   "id": "f27a7532",
   "metadata": {},
   "source": [
    "## shorted dataframe"
   ]
  },
  {
   "cell_type": "code",
   "execution_count": 99,
   "id": "1d3eb6ad",
   "metadata": {},
   "outputs": [
    {
     "name": "stdout",
     "output_type": "stream",
     "text": [
      "+-------+-----------+\n",
      "|   name|sum(salary)|\n",
      "+-------+-----------+\n",
      "| mehedi|       1111|\n",
      "|karim a|       3333|\n",
      "|karim c|       4444|\n",
      "|karim v|       4444|\n",
      "|karim b|       6666|\n",
      "|karim d|      11110|\n",
      "+-------+-----------+\n",
      "\n"
     ]
    }
   ],
   "source": [
    "gdf.orderBy('sum(salary)').show()"
   ]
  },
  {
   "cell_type": "code",
   "execution_count": 108,
   "id": "07384860",
   "metadata": {},
   "outputs": [
    {
     "name": "stdout",
     "output_type": "stream",
     "text": [
      "+---+-----+\n",
      "|age|count|\n",
      "+---+-----+\n",
      "| 22|    3|\n",
      "| 23|    5|\n",
      "| 24|    1|\n",
      "+---+-----+\n",
      "\n"
     ]
    }
   ],
   "source": [
    "#find out how many people based on age\n",
    "df.groupBy('age').count().show()"
   ]
  },
  {
   "cell_type": "code",
   "execution_count": 110,
   "id": "c816a7cf",
   "metadata": {},
   "outputs": [
    {
     "name": "stdout",
     "output_type": "stream",
     "text": [
      "+-------+---+\n",
      "|   name|age|\n",
      "+-------+---+\n",
      "|karim a| 22|\n",
      "|karim v| 22|\n",
      "|karim b| 22|\n",
      "|karim c| 23|\n",
      "|karim d| 23|\n",
      "|karim b| 24|\n",
      "|karim c| 23|\n",
      "|karim d| 23|\n",
      "| mehedi| 23|\n",
      "+-------+---+\n",
      "\n",
      "+-------+--------+\n",
      "|   name|max(age)|\n",
      "+-------+--------+\n",
      "|karim a|      22|\n",
      "|karim c|      23|\n",
      "|karim v|      22|\n",
      "| mehedi|      23|\n",
      "|karim d|      23|\n",
      "|karim b|      24|\n",
      "+-------+--------+\n",
      "\n"
     ]
    }
   ],
   "source": [
    "## find out who get maximum salary\n",
    "## did not workin perfectly\n",
    "maxdf = df.select(['name','age'])\n",
    "maxdf.show()\n",
    "maxdf.groupBy('name').max().show()"
   ]
  },
  {
   "cell_type": "markdown",
   "id": "16ac1011",
   "metadata": {},
   "source": [
    "## calculate total expenditure"
   ]
  },
  {
   "cell_type": "code",
   "execution_count": 106,
   "id": "1cb5ed2a",
   "metadata": {},
   "outputs": [
    {
     "name": "stdout",
     "output_type": "stream",
     "text": [
      "+-----------+\n",
      "|sum(salary)|\n",
      "+-----------+\n",
      "|      31108|\n",
      "+-----------+\n",
      "\n"
     ]
    }
   ],
   "source": [
    "## apply direct aggregrate\n",
    "df.agg({'salary':'sum'}).show()"
   ]
  },
  {
   "cell_type": "code",
   "execution_count": null,
   "id": "686db6e0",
   "metadata": {},
   "outputs": [],
   "source": []
  },
  {
   "cell_type": "code",
   "execution_count": null,
   "id": "2112d1d9",
   "metadata": {},
   "outputs": [],
   "source": []
  },
  {
   "cell_type": "code",
   "execution_count": null,
   "id": "fdc05c0f",
   "metadata": {},
   "outputs": [],
   "source": []
  },
  {
   "cell_type": "code",
   "execution_count": null,
   "id": "09341a1d",
   "metadata": {},
   "outputs": [],
   "source": []
  },
  {
   "cell_type": "code",
   "execution_count": null,
   "id": "a8e8922b",
   "metadata": {},
   "outputs": [],
   "source": []
  },
  {
   "cell_type": "code",
   "execution_count": null,
   "id": "d392aee5",
   "metadata": {},
   "outputs": [],
   "source": []
  },
  {
   "cell_type": "code",
   "execution_count": null,
   "id": "e24983da",
   "metadata": {},
   "outputs": [],
   "source": []
  },
  {
   "cell_type": "code",
   "execution_count": null,
   "id": "f732e81a",
   "metadata": {},
   "outputs": [],
   "source": []
  },
  {
   "cell_type": "code",
   "execution_count": null,
   "id": "981b7655",
   "metadata": {},
   "outputs": [],
   "source": []
  },
  {
   "cell_type": "code",
   "execution_count": null,
   "id": "a69def5b",
   "metadata": {},
   "outputs": [],
   "source": []
  },
  {
   "cell_type": "code",
   "execution_count": null,
   "id": "7be12d04",
   "metadata": {},
   "outputs": [],
   "source": []
  },
  {
   "cell_type": "code",
   "execution_count": null,
   "id": "a3fb3946",
   "metadata": {},
   "outputs": [],
   "source": []
  },
  {
   "cell_type": "code",
   "execution_count": null,
   "id": "b7008faf",
   "metadata": {},
   "outputs": [],
   "source": []
  },
  {
   "cell_type": "code",
   "execution_count": null,
   "id": "6d3d9f2f",
   "metadata": {},
   "outputs": [],
   "source": []
  },
  {
   "cell_type": "code",
   "execution_count": null,
   "id": "1d3d4fc6",
   "metadata": {},
   "outputs": [],
   "source": []
  },
  {
   "cell_type": "code",
   "execution_count": null,
   "id": "3dede056",
   "metadata": {},
   "outputs": [],
   "source": []
  },
  {
   "cell_type": "code",
   "execution_count": null,
   "id": "347f9082",
   "metadata": {},
   "outputs": [],
   "source": []
  },
  {
   "cell_type": "code",
   "execution_count": null,
   "id": "d259ea20",
   "metadata": {},
   "outputs": [],
   "source": []
  },
  {
   "cell_type": "code",
   "execution_count": null,
   "id": "85aefd32",
   "metadata": {},
   "outputs": [],
   "source": []
  },
  {
   "cell_type": "code",
   "execution_count": null,
   "id": "068acd88",
   "metadata": {},
   "outputs": [],
   "source": []
  },
  {
   "cell_type": "code",
   "execution_count": null,
   "id": "18e691c9",
   "metadata": {},
   "outputs": [],
   "source": []
  },
  {
   "cell_type": "code",
   "execution_count": null,
   "id": "112d5b1d",
   "metadata": {},
   "outputs": [],
   "source": []
  },
  {
   "cell_type": "code",
   "execution_count": null,
   "id": "de728970",
   "metadata": {},
   "outputs": [],
   "source": []
  },
  {
   "cell_type": "code",
   "execution_count": null,
   "id": "8c9e76b0",
   "metadata": {},
   "outputs": [],
   "source": []
  }
 ],
 "metadata": {
  "kernelspec": {
   "display_name": "myvenv",
   "language": "python",
   "name": "myvenv"
  },
  "language_info": {
   "codemirror_mode": {
    "name": "ipython",
    "version": 3
   },
   "file_extension": ".py",
   "mimetype": "text/x-python",
   "name": "python",
   "nbconvert_exporter": "python",
   "pygments_lexer": "ipython3",
   "version": "3.7.3"
  },
  "toc": {
   "base_numbering": 1,
   "nav_menu": {},
   "number_sections": true,
   "sideBar": true,
   "skip_h1_title": false,
   "title_cell": "Table of Contents",
   "title_sidebar": "Contents",
   "toc_cell": false,
   "toc_position": {},
   "toc_section_display": true,
   "toc_window_display": false
  }
 },
 "nbformat": 4,
 "nbformat_minor": 5
}
