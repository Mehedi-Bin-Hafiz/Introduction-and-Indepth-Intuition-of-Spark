{
 "cells": [
  {
   "cell_type": "code",
   "execution_count": 15,
   "id": "5b6547d4",
   "metadata": {},
   "outputs": [
    {
     "data": {
      "text/html": [
       "\n",
       "            <div>\n",
       "                <p><b>SparkSession - in-memory</b></p>\n",
       "                \n",
       "        <div>\n",
       "            <p><b>SparkContext</b></p>\n",
       "\n",
       "            <p><a href=\"http://DESKTOP-8SJANMQ:4040\">Spark UI</a></p>\n",
       "\n",
       "            <dl>\n",
       "              <dt>Version</dt>\n",
       "                <dd><code>v3.1.2</code></dd>\n",
       "              <dt>Master</dt>\n",
       "                <dd><code>local[*]</code></dd>\n",
       "              <dt>AppName</dt>\n",
       "                <dd><code>MLlib Intro</code></dd>\n",
       "            </dl>\n",
       "        </div>\n",
       "        \n",
       "            </div>\n",
       "        "
      ],
      "text/plain": [
       "<pyspark.sql.session.SparkSession at 0x1dbd9feeac8>"
      ]
     },
     "execution_count": 15,
     "metadata": {},
     "output_type": "execute_result"
    }
   ],
   "source": [
    "from pyspark.sql import SparkSession\n",
    "session = SparkSession.builder.appName('MLlib Intro').getOrCreate()\n",
    "session"
   ]
  },
  {
   "cell_type": "code",
   "execution_count": 16,
   "id": "3c3d308d",
   "metadata": {},
   "outputs": [
    {
     "name": "stdout",
     "output_type": "stream",
     "text": [
      "+---+--------+---+-----+----+-----+----+-----+\n",
      "|_c0|    date|day|month|year|store|item|sales|\n",
      "+---+--------+---+-----+----+-----+----+-----+\n",
      "|  0|02-01-13|  2|    1|  13|    1|   1|   11|\n",
      "|  1|02-02-13|  2|    2|  13|    1|   1|   21|\n",
      "|  2|02-03-13|  2|    3|  13|    1|   1|   15|\n",
      "|  3|02-04-13|  2|    4|  13|    1|   1|   14|\n",
      "|  4|02-05-13|  2|    5|  13|    1|   1|    9|\n",
      "|  5|02-06-13|  2|    6|  13|    1|   1|   10|\n",
      "|  6|02-07-13|  2|    7|  13|    1|   1|   13|\n",
      "|  7|02-08-13|  2|    8|  13|    1|   1|   11|\n",
      "|  8|02-09-13|  2|    9|  13|    1|   1|   14|\n",
      "|  9|02-10-13|  2|   10|  13|    1|   1|   11|\n",
      "+---+--------+---+-----+----+-----+----+-----+\n",
      "only showing top 10 rows\n",
      "\n",
      "root\n",
      " |-- _c0: integer (nullable = true)\n",
      " |-- date: string (nullable = true)\n",
      " |-- day: integer (nullable = true)\n",
      " |-- month: integer (nullable = true)\n",
      " |-- year: integer (nullable = true)\n",
      " |-- store: integer (nullable = true)\n",
      " |-- item: integer (nullable = true)\n",
      " |-- sales: integer (nullable = true)\n",
      "\n"
     ]
    },
    {
     "data": {
      "text/plain": [
       "['_c0', 'date', 'day', 'month', 'year', 'store', 'item', 'sales']"
      ]
     },
     "execution_count": 16,
     "metadata": {},
     "output_type": "execute_result"
    }
   ],
   "source": [
    "df = session.read.csv('dataset/modifiedBigdata.csv',header=True,inferSchema=True).limit(1000)\n",
    "df.show(10)\n",
    "df.count()\n",
    "df.printSchema()\n",
    "df.columns"
   ]
  },
  {
   "cell_type": "markdown",
   "id": "f31d1521",
   "metadata": {},
   "source": [
    "## Data value analysis"
   ]
  },
  {
   "cell_type": "code",
   "execution_count": 17,
   "id": "bf65a255",
   "metadata": {},
   "outputs": [
    {
     "name": "stdout",
     "output_type": "stream",
     "text": [
      "15\n",
      "12\n",
      "43\n"
     ]
    }
   ],
   "source": [
    "## year magnitude is very bigger than other feature's magnitude. so we need to normalized them\n",
    "max_year = df.agg({'year':'max'}).collect()\n",
    "print(max_year[0][0]) #to get value\n",
    "max_month = df.agg({'month':\"max\"}).collect()\n",
    "print(max_month[0][0])\n",
    "max_sell = df.agg({'sales':'max'}).collect()\n",
    "print(max_sell[0][0])"
   ]
  },
  {
   "cell_type": "code",
   "execution_count": null,
   "id": "0d53f466",
   "metadata": {},
   "outputs": [],
   "source": []
  },
  {
   "cell_type": "markdown",
   "id": "38416129",
   "metadata": {},
   "source": [
    "## at frist we need to create vector of each row befor train ML "
   ]
  },
  {
   "cell_type": "code",
   "execution_count": 18,
   "id": "5b1a06be",
   "metadata": {},
   "outputs": [
    {
     "name": "stdout",
     "output_type": "stream",
     "text": [
      "+--------------------+\n",
      "|  Scaled Independent|\n",
      "+--------------------+\n",
      "|[2.0,1.0,13.0,1.0...|\n",
      "|[2.0,2.0,13.0,1.0...|\n",
      "|[2.0,3.0,13.0,1.0...|\n",
      "|[2.0,4.0,13.0,1.0...|\n",
      "|[2.0,5.0,13.0,1.0...|\n",
      "|[2.0,6.0,13.0,1.0...|\n",
      "|[2.0,7.0,13.0,1.0...|\n",
      "|[2.0,8.0,13.0,1.0...|\n",
      "|[2.0,9.0,13.0,1.0...|\n",
      "|[2.0,10.0,13.0,1....|\n",
      "|[2.0,11.0,13.0,1....|\n",
      "|[2.0,12.0,13.0,1....|\n",
      "|[13.0,2.0,13.0,1....|\n",
      "|[14.0,2.0,13.0,1....|\n",
      "|[15.0,2.0,13.0,1....|\n",
      "|[16.0,2.0,13.0,1....|\n",
      "|[17.0,2.0,13.0,1....|\n",
      "|[18.0,2.0,13.0,1....|\n",
      "|[19.0,2.0,13.0,1....|\n",
      "|[20.0,2.0,13.0,1....|\n",
      "+--------------------+\n",
      "only showing top 20 rows\n",
      "\n"
     ]
    }
   ],
   "source": [
    "from pyspark.ml.feature import VectorAssembler\n",
    "assembler = VectorAssembler(inputCols=['day', 'month', 'year', 'store', 'item',],outputCol='Scaled Independent')\n",
    "output = assembler.transform(df) \n",
    "output.select('Scaled Independent').show()"
   ]
  },
  {
   "cell_type": "markdown",
   "id": "aea74683",
   "metadata": {},
   "source": [
    "## data normalize by  minmax scaler"
   ]
  },
  {
   "cell_type": "code",
   "execution_count": 19,
   "id": "8e7d0326",
   "metadata": {},
   "outputs": [],
   "source": [
    "# from pyspark.ml.feature import MinMaxScaler\n",
    "# scaler = MinMaxScaler(inputCol='Independent Features',outputCol='Scaled Independent')\n",
    "# scaler_output = scaler.fit(output)\n",
    "# scaler_output = scaler_output.transform(output)\n",
    "# scaler_output.select('Scaled Independent').show(10,truncate=False)\n",
    "# scaler_output.count()\n",
    "scaler_output = output"
   ]
  },
  {
   "cell_type": "code",
   "execution_count": 20,
   "id": "027d9b07",
   "metadata": {},
   "outputs": [
    {
     "name": "stdout",
     "output_type": "stream",
     "text": [
      "+--------------------+-----+\n",
      "|  Scaled Independent|sales|\n",
      "+--------------------+-----+\n",
      "|[2.0,1.0,13.0,1.0...|   11|\n",
      "|[2.0,2.0,13.0,1.0...|   21|\n",
      "|[2.0,3.0,13.0,1.0...|   15|\n",
      "|[2.0,4.0,13.0,1.0...|   14|\n",
      "|[2.0,5.0,13.0,1.0...|    9|\n",
      "|[2.0,6.0,13.0,1.0...|   10|\n",
      "|[2.0,7.0,13.0,1.0...|   13|\n",
      "|[2.0,8.0,13.0,1.0...|   11|\n",
      "|[2.0,9.0,13.0,1.0...|   14|\n",
      "|[2.0,10.0,13.0,1....|   11|\n",
      "|[2.0,11.0,13.0,1....|   16|\n",
      "|[2.0,12.0,13.0,1....|   11|\n",
      "|[13.0,2.0,13.0,1....|   14|\n",
      "|[14.0,2.0,13.0,1....|   10|\n",
      "|[15.0,2.0,13.0,1....|   11|\n",
      "|[16.0,2.0,13.0,1....|    7|\n",
      "|[17.0,2.0,13.0,1....|   11|\n",
      "|[18.0,2.0,13.0,1....|   10|\n",
      "|[19.0,2.0,13.0,1....|   10|\n",
      "|[20.0,2.0,13.0,1....|    7|\n",
      "+--------------------+-----+\n",
      "only showing top 20 rows\n",
      "\n"
     ]
    }
   ],
   "source": [
    "final_df = scaler_output.select('Scaled Independent','sales')\n",
    "final_df.show()"
   ]
  },
  {
   "cell_type": "markdown",
   "id": "a6fe1a7b",
   "metadata": {},
   "source": [
    "## apply ML algo"
   ]
  },
  {
   "cell_type": "code",
   "execution_count": 21,
   "id": "0125fcad",
   "metadata": {},
   "outputs": [],
   "source": [
    "from pyspark.ml.regression import LinearRegression\n",
    "train_data,test_data = final_df.randomSplit([0.80,0.20])\n",
    "reg = LinearRegression(featuresCol='Scaled Independent',labelCol='sales')\n",
    "reg = reg.fit(train_data)"
   ]
  },
  {
   "cell_type": "code",
   "execution_count": 22,
   "id": "1b7ae881",
   "metadata": {},
   "outputs": [
    {
     "data": {
      "text/plain": [
       "DenseVector([0.0184, 0.226, 2.0356, 0.0, 0.0])"
      ]
     },
     "execution_count": 22,
     "metadata": {},
     "output_type": "execute_result"
    }
   ],
   "source": [
    "reg.coefficients"
   ]
  },
  {
   "cell_type": "code",
   "execution_count": 23,
   "id": "76e5a15a",
   "metadata": {},
   "outputs": [
    {
     "data": {
      "text/plain": [
       "-11.32583499323527"
      ]
     },
     "execution_count": 23,
     "metadata": {},
     "output_type": "execute_result"
    }
   ],
   "source": [
    "reg.intercept"
   ]
  },
  {
   "cell_type": "code",
   "execution_count": 24,
   "id": "10b9f0f8",
   "metadata": {},
   "outputs": [],
   "source": [
    "## prediction\n",
    "pred = reg.evaluate(test_data)"
   ]
  },
  {
   "cell_type": "code",
   "execution_count": 25,
   "id": "7a26442f",
   "metadata": {},
   "outputs": [
    {
     "name": "stdout",
     "output_type": "stream",
     "text": [
      "+--------------------+-----+------------------+\n",
      "|  Scaled Independent|sales|        prediction|\n",
      "+--------------------+-----+------------------+\n",
      "|[1.0,1.0,15.0,1.0...|   11| 19.45192356408115|\n",
      "|[1.0,2.0,14.0,1.0...|   14|17.642357700668526|\n",
      "|[1.0,5.0,15.0,1.0...|   14| 20.35589429472487|\n",
      "|[1.0,6.0,15.0,1.0...|    9|  20.5818869773858|\n",
      "|[1.0,7.0,14.0,1.0...|   11|18.772321113973177|\n",
      "|[1.0,12.0,15.0,1....|    9| 21.93784307335138|\n",
      "|[2.0,1.0,13.0,1.0...|   11|15.399194155486237|\n",
      "|[2.0,3.0,15.0,1.0...|   10|  19.9222966129552|\n",
      "|[2.0,4.0,15.0,1.0...|    8| 20.14828929561613|\n",
      "|[2.0,9.0,15.0,1.0...|   12| 21.27825270892079|\n",
      "|[2.0,10.0,13.0,1....|   11|17.433128299434607|\n",
      "|[2.0,12.0,14.0,1....|    9| 19.92067221083002|\n",
      "|[3.0,4.0,13.0,1.0...|   14|16.095559887021224|\n",
      "|[3.0,4.0,15.0,1.0...|   19| 20.16667697916833|\n",
      "|[3.0,6.0,13.0,1.0...|   17|16.547545252343085|\n",
      "|[3.0,8.0,14.0,1.0...|   14|19.035089163738498|\n",
      "|[3.0,10.0,13.0,1....|   11|17.451515982986805|\n",
      "|[3.0,11.0,14.0,1....|   14|19.713067211721288|\n",
      "|[4.0,1.0,14.0,1.0...|   19|17.471528068664178|\n",
      "|[4.0,3.0,15.0,1.0...|   27| 19.95907198005959|\n",
      "+--------------------+-----+------------------+\n",
      "only showing top 20 rows\n",
      "\n"
     ]
    }
   ],
   "source": [
    "pred_df = pred.predictions\n",
    "pred_df.show()"
   ]
  },
  {
   "cell_type": "markdown",
   "id": "71ca6f99",
   "metadata": {},
   "source": [
    "## performance matrix\n",
    "\n"
   ]
  },
  {
   "cell_type": "code",
   "execution_count": 26,
   "id": "8d17f158",
   "metadata": {},
   "outputs": [
    {
     "data": {
      "text/plain": [
       "(0.07054433278745742, 4.785186048949728, 36.18054464737624)"
      ]
     },
     "execution_count": 26,
     "metadata": {},
     "output_type": "execute_result"
    }
   ],
   "source": [
    "pred.r2, pred.meanAbsoluteError,pred.meanSquaredError"
   ]
  },
  {
   "cell_type": "code",
   "execution_count": 27,
   "id": "483a9e17",
   "metadata": {},
   "outputs": [
    {
     "data": {
      "text/html": [
       "<div>\n",
       "<style scoped>\n",
       "    .dataframe tbody tr th:only-of-type {\n",
       "        vertical-align: middle;\n",
       "    }\n",
       "\n",
       "    .dataframe tbody tr th {\n",
       "        vertical-align: top;\n",
       "    }\n",
       "\n",
       "    .dataframe thead th {\n",
       "        text-align: right;\n",
       "    }\n",
       "</style>\n",
       "<table border=\"1\" class=\"dataframe\">\n",
       "  <thead>\n",
       "    <tr style=\"text-align: right;\">\n",
       "      <th></th>\n",
       "      <th>sales</th>\n",
       "      <th>prediction</th>\n",
       "    </tr>\n",
       "  </thead>\n",
       "  <tbody>\n",
       "    <tr>\n",
       "      <th>0</th>\n",
       "      <td>11</td>\n",
       "      <td>19.451924</td>\n",
       "    </tr>\n",
       "    <tr>\n",
       "      <th>1</th>\n",
       "      <td>14</td>\n",
       "      <td>17.642358</td>\n",
       "    </tr>\n",
       "    <tr>\n",
       "      <th>2</th>\n",
       "      <td>14</td>\n",
       "      <td>20.355894</td>\n",
       "    </tr>\n",
       "    <tr>\n",
       "      <th>3</th>\n",
       "      <td>9</td>\n",
       "      <td>20.581887</td>\n",
       "    </tr>\n",
       "    <tr>\n",
       "      <th>4</th>\n",
       "      <td>11</td>\n",
       "      <td>18.772321</td>\n",
       "    </tr>\n",
       "    <tr>\n",
       "      <th>...</th>\n",
       "      <td>...</td>\n",
       "      <td>...</td>\n",
       "    </tr>\n",
       "    <tr>\n",
       "      <th>201</th>\n",
       "      <td>11</td>\n",
       "      <td>20.435527</td>\n",
       "    </tr>\n",
       "    <tr>\n",
       "      <th>202</th>\n",
       "      <td>20</td>\n",
       "      <td>16.384422</td>\n",
       "    </tr>\n",
       "    <tr>\n",
       "      <th>203</th>\n",
       "      <td>31</td>\n",
       "      <td>18.871966</td>\n",
       "    </tr>\n",
       "    <tr>\n",
       "      <th>204</th>\n",
       "      <td>25</td>\n",
       "      <td>17.514386</td>\n",
       "    </tr>\n",
       "    <tr>\n",
       "      <th>205</th>\n",
       "      <td>12</td>\n",
       "      <td>20.453915</td>\n",
       "    </tr>\n",
       "  </tbody>\n",
       "</table>\n",
       "<p>206 rows × 2 columns</p>\n",
       "</div>"
      ],
      "text/plain": [
       "     sales  prediction\n",
       "0       11   19.451924\n",
       "1       14   17.642358\n",
       "2       14   20.355894\n",
       "3        9   20.581887\n",
       "4       11   18.772321\n",
       "..     ...         ...\n",
       "201     11   20.435527\n",
       "202     20   16.384422\n",
       "203     31   18.871966\n",
       "204     25   17.514386\n",
       "205     12   20.453915\n",
       "\n",
       "[206 rows x 2 columns]"
      ]
     },
     "execution_count": 27,
     "metadata": {},
     "output_type": "execute_result"
    }
   ],
   "source": [
    "## Graph generation\n",
    "panda_df = pred_df.select('sales','prediction').toPandas()\n",
    "panda_df"
   ]
  },
  {
   "cell_type": "code",
   "execution_count": 28,
   "id": "18528793",
   "metadata": {},
   "outputs": [
    {
     "data": {
      "text/plain": [
       "<AxesSubplot:>"
      ]
     },
     "execution_count": 28,
     "metadata": {},
     "output_type": "execute_result"
    },
    {
     "data": {
      "image/png": "[encoded data removed]",
      "text/plain": [
       "<Figure size 432x288 with 1 Axes>"
      ]
     },
     "metadata": {
      "needs_background": "light"
     },
     "output_type": "display_data"
    }
   ],
   "source": [
    "panda_df.plot()"
   ]
  }
 ],
 "metadata": {
  "kernelspec": {
   "display_name": "myvenv",
   "language": "python",
   "name": "myvenv"
  },
  "language_info": {
   "codemirror_mode": {
    "name": "ipython",
    "version": 3
   },
   "file_extension": ".py",
   "mimetype": "text/x-python",
   "name": "python",
   "nbconvert_exporter": "python",
   "pygments_lexer": "ipython3",
   "version": "3.7.3"
  },
  "toc": {
   "base_numbering": 1,
   "nav_menu": {},
   "number_sections": true,
   "sideBar": true,
   "skip_h1_title": false,
   "title_cell": "Table of Contents",
   "title_sidebar": "Contents",
   "toc_cell": false,
   "toc_position": {},
   "toc_section_display": true,
   "toc_window_display": false
  }
 },
 "nbformat": 4,
 "nbformat_minor": 5
}
