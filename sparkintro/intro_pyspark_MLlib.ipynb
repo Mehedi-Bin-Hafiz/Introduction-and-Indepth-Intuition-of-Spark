{
 "cells": [
  {
   "cell_type": "code",
   "execution_count": 3,
   "id": "5b6547d4",
   "metadata": {},
   "outputs": [],
   "source": [
    "from pyspark.sql import SparkSession\n",
    "session = SparkSession.builder.appName('MLlib Intro').getOrCreate()"
   ]
  },
  {
   "cell_type": "code",
   "execution_count": 5,
   "id": "3c3d308d",
   "metadata": {},
   "outputs": [
    {
     "name": "stdout",
     "output_type": "stream",
     "text": [
      "+---+--------+-------------------+----+-----+---+-----+----+-----+\n",
      "|_c0|    date|           datetime|year|month|day|store|item|sales|\n",
      "+---+--------+-------------------+----+-----+---+-----+----+-----+\n",
      "|  0|01-01-13|2013-01-01 00:01:00|2013|    1|  1|    1|   1|   13|\n",
      "|  1|02-01-13|2013-01-02 00:01:00|2013|    1|  2|    1|   1|   11|\n",
      "|  2|03-01-13|2013-01-03 00:01:00|2013|    1|  3|    1|   1|   14|\n",
      "|  3|04-01-13|2013-01-04 00:01:00|2013|    1|  4|    1|   1|   13|\n",
      "|  4|05-01-13|2013-01-05 00:01:00|2013|    1|  5|    1|   1|   10|\n",
      "|  5|06-01-13|2013-01-06 00:01:00|2013|    1|  6|    1|   1|   12|\n",
      "|  6|07-01-13|2013-01-07 00:01:00|2013|    1|  7|    1|   1|   10|\n",
      "|  7|08-01-13|2013-01-08 00:01:00|2013|    1|  8|    1|   1|    9|\n",
      "|  8|09-01-13|2013-01-09 00:01:00|2013|    1|  9|    1|   1|   12|\n",
      "|  9|10-01-13|2013-01-10 00:01:00|2013|    1| 10|    1|   1|    9|\n",
      "| 10|11-01-13|2013-01-11 00:01:00|2013|    1| 11|    1|   1|    9|\n",
      "| 11|12-01-13|2013-01-12 00:01:00|2013|    1| 12|    1|   1|    7|\n",
      "| 12|13-01-13|2013-01-13 00:01:00|2013|    1| 13|    1|   1|   10|\n",
      "| 13|14-01-13|2013-01-14 00:01:00|2013|    1| 14|    1|   1|   12|\n",
      "| 14|15-01-13|2013-01-15 00:01:00|2013|    1| 15|    1|   1|    5|\n",
      "| 15|16-01-13|2013-01-16 00:01:00|2013|    1| 16|    1|   1|    7|\n",
      "| 16|17-01-13|2013-01-17 00:01:00|2013|    1| 17|    1|   1|   16|\n",
      "| 17|18-01-13|2013-01-18 00:01:00|2013|    1| 18|    1|   1|    7|\n",
      "| 18|19-01-13|2013-01-19 00:01:00|2013|    1| 19|    1|   1|    7|\n",
      "| 19|20-01-13|2013-01-20 00:01:00|2013|    1| 20|    1|   1|   15|\n",
      "+---+--------+-------------------+----+-----+---+-----+----+-----+\n",
      "only showing top 20 rows\n",
      "\n"
     ]
    },
    {
     "data": {
      "text/plain": [
       "10000"
      ]
     },
     "execution_count": 5,
     "metadata": {},
     "output_type": "execute_result"
    }
   ],
   "source": [
    "df = session.read.csv('dataset\\modifiedbigdata.csv',header=True,inferSchema=True).limit(10000)\n",
    "df.show()\n",
    "df.count()"
   ]
  },
  {
   "cell_type": "markdown",
   "id": "df541cb7",
   "metadata": {},
   "source": [
    "## Data normalization"
   ]
  },
  {
   "cell_type": "code",
   "execution_count": 20,
   "id": "86dbd5eb",
   "metadata": {},
   "outputs": [
    {
     "data": {
      "text/plain": [
       "1"
      ]
     },
     "execution_count": 20,
     "metadata": {},
     "output_type": "execute_result"
    }
   ],
   "source": [
    "## year magnitude is very bigger than other feature's magnitude. so we need to normalized them\n",
    "max_year = df.agg({'year':'max'}).collect()\n",
    "max_year[0][0] #to get value\n",
    "max_month = df.agg({'month':\"max\"}).collect()\n",
    "max_month[0][0]"
   ]
  },
  {
   "cell_type": "code",
   "execution_count": null,
   "id": "4e4dd74b",
   "metadata": {},
   "outputs": [],
   "source": []
  },
  {
   "cell_type": "code",
   "execution_count": null,
   "id": "050786ce",
   "metadata": {},
   "outputs": [],
   "source": []
  },
  {
   "cell_type": "code",
   "execution_count": null,
   "id": "8aad2cad",
   "metadata": {},
   "outputs": [],
   "source": []
  },
  {
   "cell_type": "code",
   "execution_count": null,
   "id": "b9d70a52",
   "metadata": {},
   "outputs": [],
   "source": []
  },
  {
   "cell_type": "markdown",
   "id": "af346865",
   "metadata": {},
   "source": [
    "## at frist we need to create vector of each row befor train ML "
   ]
  },
  {
   "cell_type": "code",
   "execution_count": null,
   "id": "5b1a06be",
   "metadata": {},
   "outputs": [],
   "source": [
    "from pyspark.ml.feature import VectorAssembler\n",
    "assembler = VectorAssembler(inputCols=[])"
   ]
  },
  {
   "cell_type": "code",
   "execution_count": null,
   "id": "027d9b07",
   "metadata": {},
   "outputs": [],
   "source": []
  },
  {
   "cell_type": "code",
   "execution_count": null,
   "id": "56db9d73",
   "metadata": {},
   "outputs": [],
   "source": []
  },
  {
   "cell_type": "code",
   "execution_count": null,
   "id": "0125fcad",
   "metadata": {},
   "outputs": [],
   "source": []
  },
  {
   "cell_type": "code",
   "execution_count": null,
   "id": "1b7ae881",
   "metadata": {},
   "outputs": [],
   "source": []
  },
  {
   "cell_type": "code",
   "execution_count": null,
   "id": "76e5a15a",
   "metadata": {},
   "outputs": [],
   "source": []
  },
  {
   "cell_type": "code",
   "execution_count": null,
   "id": "10b9f0f8",
   "metadata": {},
   "outputs": [],
   "source": []
  },
  {
   "cell_type": "code",
   "execution_count": null,
   "id": "7a26442f",
   "metadata": {},
   "outputs": [],
   "source": []
  },
  {
   "cell_type": "code",
   "execution_count": null,
   "id": "bad78c22",
   "metadata": {},
   "outputs": [],
   "source": []
  },
  {
   "cell_type": "code",
   "execution_count": null,
   "id": "8d17f158",
   "metadata": {},
   "outputs": [],
   "source": []
  },
  {
   "cell_type": "code",
   "execution_count": null,
   "id": "483a9e17",
   "metadata": {},
   "outputs": [],
   "source": []
  }
 ],
 "metadata": {
  "kernelspec": {
   "display_name": "myvenv",
   "language": "python",
   "name": "myvenv"
  },
  "language_info": {
   "codemirror_mode": {
    "name": "ipython",
    "version": 3
   },
   "file_extension": ".py",
   "mimetype": "text/x-python",
   "name": "python",
   "nbconvert_exporter": "python",
   "pygments_lexer": "ipython3",
   "version": "3.7.3"
  },
  "toc": {
   "base_numbering": 1,
   "nav_menu": {},
   "number_sections": true,
   "sideBar": true,
   "skip_h1_title": false,
   "title_cell": "Table of Contents",
   "title_sidebar": "Contents",
   "toc_cell": false,
   "toc_position": {},
   "toc_section_display": true,
   "toc_window_display": false
  }
 },
 "nbformat": 4,
 "nbformat_minor": 5
}
