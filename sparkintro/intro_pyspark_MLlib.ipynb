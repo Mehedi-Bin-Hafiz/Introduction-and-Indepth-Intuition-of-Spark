{
 "cells": [
  {
   "cell_type": "code",
   "execution_count": 1,
   "id": "5b6547d4",
   "metadata": {},
   "outputs": [],
   "source": [
    "from pyspark.sql import SparkSession\n",
    "session = SparkSession.builder.appName('MLlib Intro').getOrCreate()"
   ]
  },
  {
   "cell_type": "code",
   "execution_count": 20,
   "id": "3c3d308d",
   "metadata": {},
   "outputs": [
    {
     "name": "stdout",
     "output_type": "stream",
     "text": [
      "+---+--------+---+-----+----+-----+----+-----+\n",
      "|_c0|    date|day|month|year|store|item|sales|\n",
      "+---+--------+---+-----+----+-----+----+-----+\n",
      "|  0|02-01-13|  2|    1|  13|    1|   1|   11|\n",
      "|  1|02-02-13|  2|    2|  13|    1|   1|   21|\n",
      "|  2|02-03-13|  2|    3|  13|    1|   1|   15|\n",
      "|  3|02-04-13|  2|    4|  13|    1|   1|   14|\n",
      "|  4|02-05-13|  2|    5|  13|    1|   1|    9|\n",
      "|  5|02-06-13|  2|    6|  13|    1|   1|   10|\n",
      "|  6|02-07-13|  2|    7|  13|    1|   1|   13|\n",
      "|  7|02-08-13|  2|    8|  13|    1|   1|   11|\n",
      "|  8|02-09-13|  2|    9|  13|    1|   1|   14|\n",
      "|  9|02-10-13|  2|   10|  13|    1|   1|   11|\n",
      "+---+--------+---+-----+----+-----+----+-----+\n",
      "only showing top 10 rows\n",
      "\n",
      "root\n",
      " |-- _c0: integer (nullable = true)\n",
      " |-- date: string (nullable = true)\n",
      " |-- day: integer (nullable = true)\n",
      " |-- month: integer (nullable = true)\n",
      " |-- year: integer (nullable = true)\n",
      " |-- store: integer (nullable = true)\n",
      " |-- item: integer (nullable = true)\n",
      " |-- sales: integer (nullable = true)\n",
      "\n"
     ]
    },
    {
     "data": {
      "text/plain": [
       "['_c0', 'date', 'day', 'month', 'year', 'store', 'item', 'sales']"
      ]
     },
     "execution_count": 20,
     "metadata": {},
     "output_type": "execute_result"
    }
   ],
   "source": [
    "df = session.read.csv('dataset/modifiedBigdata.csv',header=True,inferSchema=True).limit(10000)\n",
    "df.show(10)\n",
    "df.count()\n",
    "df.printSchema()\n",
    "df.columns"
   ]
  },
  {
   "cell_type": "markdown",
   "id": "0e8dce8c",
   "metadata": {},
   "source": [
    "## Data value analysis"
   ]
  },
  {
   "cell_type": "code",
   "execution_count": 18,
   "id": "73454a19",
   "metadata": {},
   "outputs": [
    {
     "name": "stdout",
     "output_type": "stream",
     "text": [
      "17\n",
      "12\n",
      "58\n"
     ]
    }
   ],
   "source": [
    "## year magnitude is very bigger than other feature's magnitude. so we need to normalized them\n",
    "max_year = df.agg({'year':'max'}).collect()\n",
    "print(max_year[0][0]) #to get value\n",
    "max_month = df.agg({'month':\"max\"}).collect()\n",
    "print(max_month[0][0])\n",
    "max_sell = df.agg({'sales':'max'}).collect()\n",
    "print(max_sell[0][0])"
   ]
  },
  {
   "cell_type": "code",
   "execution_count": null,
   "id": "74214052",
   "metadata": {},
   "outputs": [],
   "source": [
    "## Data nomazitaion\n",
    "df.withColumn('nor')"
   ]
  },
  {
   "cell_type": "code",
   "execution_count": null,
   "id": "221b390a",
   "metadata": {},
   "outputs": [],
   "source": []
  },
  {
   "cell_type": "code",
   "execution_count": null,
   "id": "8fcaad08",
   "metadata": {},
   "outputs": [],
   "source": []
  },
  {
   "cell_type": "code",
   "execution_count": null,
   "id": "e149a64e",
   "metadata": {},
   "outputs": [],
   "source": []
  },
  {
   "cell_type": "markdown",
   "id": "bdeba57d",
   "metadata": {},
   "source": [
    "## at frist we need to create vector of each row befor train ML "
   ]
  },
  {
   "cell_type": "code",
   "execution_count": 39,
   "id": "5b1a06be",
   "metadata": {},
   "outputs": [
    {
     "name": "stdout",
     "output_type": "stream",
     "text": [
      "+--------------------+\n",
      "|Independent Features|\n",
      "+--------------------+\n",
      "|[2.0,1.0,13.0,1.0...|\n",
      "|[2.0,2.0,13.0,1.0...|\n",
      "|[2.0,3.0,13.0,1.0...|\n",
      "|[2.0,4.0,13.0,1.0...|\n",
      "|[2.0,5.0,13.0,1.0...|\n",
      "|[2.0,6.0,13.0,1.0...|\n",
      "|[2.0,7.0,13.0,1.0...|\n",
      "|[2.0,8.0,13.0,1.0...|\n",
      "|[2.0,9.0,13.0,1.0...|\n",
      "|[2.0,10.0,13.0,1....|\n",
      "|[2.0,11.0,13.0,1....|\n",
      "|[2.0,12.0,13.0,1....|\n",
      "|[13.0,2.0,13.0,1....|\n",
      "|[14.0,2.0,13.0,1....|\n",
      "|[15.0,2.0,13.0,1....|\n",
      "|[16.0,2.0,13.0,1....|\n",
      "|[17.0,2.0,13.0,1....|\n",
      "|[18.0,2.0,13.0,1....|\n",
      "|[19.0,2.0,13.0,1....|\n",
      "|[20.0,2.0,13.0,1....|\n",
      "+--------------------+\n",
      "only showing top 20 rows\n",
      "\n"
     ]
    },
    {
     "data": {
      "text/plain": [
       "10000"
      ]
     },
     "execution_count": 39,
     "metadata": {},
     "output_type": "execute_result"
    }
   ],
   "source": [
    "from pyspark.ml.feature import VectorAssembler\n",
    "assembler = VectorAssembler(inputCols=['day', 'month', 'year', 'store', 'item',],outputCol='Independent Features')\n",
    "output = assembler.transform(df) \n",
    "output.select('Independent Features').show()"
   ]
  },
  {
   "cell_type": "markdown",
   "id": "e308e96a",
   "metadata": {},
   "source": [
    "## data normalize by  minmax scaler"
   ]
  },
  {
   "cell_type": "code",
   "execution_count": 43,
   "id": "c3cbd24a",
   "metadata": {},
   "outputs": [
    {
     "name": "stdout",
     "output_type": "stream",
     "text": [
      "+-----------------------------------------------------+\n",
      "|Scaled Independent                                   |\n",
      "+-----------------------------------------------------+\n",
      "|(5,[0,4],[0.03333333333333333,0.5])                  |\n",
      "|[0.03333333333333333,0.09090909090909091,0.0,0.0,0.5]|\n",
      "|[0.03333333333333333,0.18181818181818182,0.0,0.0,0.5]|\n",
      "|[0.03333333333333333,0.2727272727272727,0.0,0.0,0.5] |\n",
      "|[0.03333333333333333,0.36363636363636365,0.0,0.0,0.5]|\n",
      "|[0.03333333333333333,0.4545454545454546,0.0,0.0,0.5] |\n",
      "|[0.03333333333333333,0.5454545454545454,0.0,0.0,0.5] |\n",
      "|[0.03333333333333333,0.6363636363636364,0.0,0.0,0.5] |\n",
      "|[0.03333333333333333,0.7272727272727273,0.0,0.0,0.5] |\n",
      "|[0.03333333333333333,0.8181818181818182,0.0,0.0,0.5] |\n",
      "+-----------------------------------------------------+\n",
      "only showing top 10 rows\n",
      "\n"
     ]
    },
    {
     "data": {
      "text/plain": [
       "10000"
      ]
     },
     "execution_count": 43,
     "metadata": {},
     "output_type": "execute_result"
    }
   ],
   "source": [
    "from pyspark.ml.feature import MinMaxScaler\n",
    "scaler = MinMaxScaler(inputCol='Independent Features',outputCol='Scaled Independent')\n",
    "scaler_output = scaler.fit(output)\n",
    "scaler_output = scaler_output.transform(output)\n",
    "scaler_output.select('Scaled Independent').show(10,truncate=False)\n",
    "scaler_output.count()"
   ]
  },
  {
   "cell_type": "code",
   "execution_count": 44,
   "id": "027d9b07",
   "metadata": {},
   "outputs": [
    {
     "name": "stdout",
     "output_type": "stream",
     "text": [
      "+--------------------+-----+\n",
      "|  Scaled Independent|sales|\n",
      "+--------------------+-----+\n",
      "|(5,[0,4],[0.03333...|   11|\n",
      "|[0.03333333333333...|   21|\n",
      "|[0.03333333333333...|   15|\n",
      "|[0.03333333333333...|   14|\n",
      "|[0.03333333333333...|    9|\n",
      "|[0.03333333333333...|   10|\n",
      "|[0.03333333333333...|   13|\n",
      "|[0.03333333333333...|   11|\n",
      "|[0.03333333333333...|   14|\n",
      "|[0.03333333333333...|   11|\n",
      "|[0.03333333333333...|   16|\n",
      "|[0.03333333333333...|   11|\n",
      "|[0.4,0.0909090909...|   14|\n",
      "|[0.43333333333333...|   10|\n",
      "|[0.46666666666666...|   11|\n",
      "|[0.5,0.0909090909...|    7|\n",
      "|[0.53333333333333...|   11|\n",
      "|[0.56666666666666...|   10|\n",
      "|[0.6,0.0909090909...|   10|\n",
      "|[0.63333333333333...|    7|\n",
      "+--------------------+-----+\n",
      "only showing top 20 rows\n",
      "\n"
     ]
    }
   ],
   "source": [
    "final_df = scaler_output.select('Scaled Independent','sales')\n",
    "final_df.show()"
   ]
  },
  {
   "cell_type": "markdown",
   "id": "f61cfbbe",
   "metadata": {},
   "source": [
    "## apply ML algo"
   ]
  },
  {
   "cell_type": "code",
   "execution_count": 45,
   "id": "0125fcad",
   "metadata": {},
   "outputs": [],
   "source": [
    "from pyspark.ml.regression import LinearRegression\n",
    "train_data,test_data = final_df.randomSplit([0.75,0.25])\n",
    "reg = LinearRegression(featuresCol='Scaled Independent',labelCol='sales')\n",
    "reg = reg.fit(train_data)"
   ]
  },
  {
   "cell_type": "code",
   "execution_count": 46,
   "id": "1b7ae881",
   "metadata": {},
   "outputs": [
    {
     "data": {
      "text/plain": [
       "DenseVector([0.5716, 2.3129, 6.7902, -6.6832, 0.0])"
      ]
     },
     "execution_count": 46,
     "metadata": {},
     "output_type": "execute_result"
    }
   ],
   "source": [
    "reg.coefficients"
   ]
  },
  {
   "cell_type": "code",
   "execution_count": 47,
   "id": "76e5a15a",
   "metadata": {},
   "outputs": [
    {
     "data": {
      "text/plain": [
       "20.346033325486363"
      ]
     },
     "execution_count": 47,
     "metadata": {},
     "output_type": "execute_result"
    }
   ],
   "source": [
    "reg.intercept"
   ]
  },
  {
   "cell_type": "code",
   "execution_count": 48,
   "id": "10b9f0f8",
   "metadata": {},
   "outputs": [],
   "source": [
    "## prediction\n",
    "pred = reg.evaluate(test_data)"
   ]
  },
  {
   "cell_type": "code",
   "execution_count": 49,
   "id": "7a26442f",
   "metadata": {},
   "outputs": [
    {
     "name": "stdout",
     "output_type": "stream",
     "text": [
      "+--------------------+-----+------------------+\n",
      "|  Scaled Independent|sales|        prediction|\n",
      "+--------------------+-----+------------------+\n",
      "|(5,[0,4],[0.26666...|   25| 20.49846961388405|\n",
      "| (5,[3,4],[0.8,0.5])|   11|14.999466397248295|\n",
      "|[0.0,0.0,0.25,0.2...|   19|20.706949258082894|\n",
      "|[0.0,0.0,0.25,1.0...|   13|15.360382329844825|\n",
      "|[0.0,0.0,0.5,0.4,...|   15|21.067865190679427|\n",
      "|[0.0,0.0,0.5,0.60...|   20| 19.73122345861991|\n",
      "|[0.0,0.0,0.75,0.4...|   23|22.765422855335476|\n",
      "|[0.0,0.0,0.75,0.6...|   17|21.428781123275957|\n",
      "|[0.0,0.0,1.0,0.4,...|   20|24.462980519991525|\n",
      "|[0.0,0.0909090909...|    8|17.883015424504954|\n",
      "|[0.0,0.0909090909...|   12| 16.54637369244544|\n",
      "|[0.0,0.0909090909...|   17|19.580573089161003|\n",
      "|[0.0,0.0909090909...|    8| 16.90728962504197|\n",
      "|[0.0,0.0909090909...|   17| 22.61477248587657|\n",
      "|[0.0,0.0909090909...|   16|21.278130753817052|\n",
      "|[0.0,0.0909090909...|   20|23.336604351069635|\n",
      "|[0.0,0.0909090909...|    5|21.999962619010116|\n",
      "|[0.0,0.1818181818...|   16|19.790838652298632|\n",
      "|[0.0,0.1818181818...|   12|17.117555188179598|\n",
      "|[0.0,0.1818181818...|   26|22.825038049014196|\n",
      "+--------------------+-----+------------------+\n",
      "only showing top 20 rows\n",
      "\n"
     ]
    }
   ],
   "source": [
    "pred.predictions.show()"
   ]
  },
  {
   "cell_type": "markdown",
   "id": "0e83edeb",
   "metadata": {},
   "source": [
    "## performance matrix\n",
    "\n"
   ]
  },
  {
   "cell_type": "code",
   "execution_count": 50,
   "id": "8d17f158",
   "metadata": {},
   "outputs": [
    {
     "data": {
      "text/plain": [
       "(0.1651134948649542, 5.970780626976752, 57.37820653111907)"
      ]
     },
     "execution_count": 50,
     "metadata": {},
     "output_type": "execute_result"
    }
   ],
   "source": [
    "pred.r2, pred.meanAbsoluteError,pred.meanSquaredError"
   ]
  },
  {
   "cell_type": "code",
   "execution_count": null,
   "id": "483a9e17",
   "metadata": {},
   "outputs": [],
   "source": []
  }
 ],
 "metadata": {
  "kernelspec": {
   "display_name": "myvenv",
   "language": "python",
   "name": "myvenv"
  },
  "language_info": {
   "codemirror_mode": {
    "name": "ipython",
    "version": 3
   },
   "file_extension": ".py",
   "mimetype": "text/x-python",
   "name": "python",
   "nbconvert_exporter": "python",
   "pygments_lexer": "ipython3",
   "version": "3.7.3"
  },
  "toc": {
   "base_numbering": 1,
   "nav_menu": {},
   "number_sections": true,
   "sideBar": true,
   "skip_h1_title": false,
   "title_cell": "Table of Contents",
   "title_sidebar": "Contents",
   "toc_cell": false,
   "toc_position": {},
   "toc_section_display": true,
   "toc_window_display": false
  }
 },
 "nbformat": 4,
 "nbformat_minor": 5
}
