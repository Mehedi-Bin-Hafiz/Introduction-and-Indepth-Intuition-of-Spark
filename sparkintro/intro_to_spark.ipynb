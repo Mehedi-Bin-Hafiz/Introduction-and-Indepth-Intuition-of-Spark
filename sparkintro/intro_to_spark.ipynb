{
 "cells": [
  {
   "cell_type": "code",
   "execution_count": 1,
   "id": "d651b4c4",
   "metadata": {},
   "outputs": [],
   "source": [
    "# !pip install pyspark\n"
   ]
  },
  {
   "cell_type": "code",
   "execution_count": 20,
   "id": "ff2957ed",
   "metadata": {},
   "outputs": [],
   "source": [
    "import pyspark\n"
   ]
  },
  {
   "cell_type": "code",
   "execution_count": 21,
   "id": "f28c1cd5",
   "metadata": {},
   "outputs": [
    {
     "name": "stdout",
     "output_type": "stream",
     "text": [
      "meheid\n"
     ]
    }
   ],
   "source": [
    "print('meheid')"
   ]
  },
  {
   "cell_type": "code",
   "execution_count": 4,
   "id": "7eff69f3",
   "metadata": {
    "scrolled": false
   },
   "outputs": [],
   "source": [
    "# !pip install matplotlib\n"
   ]
  },
  {
   "cell_type": "code",
   "execution_count": 5,
   "id": "e2bf20ab",
   "metadata": {},
   "outputs": [],
   "source": [
    "# pip freeze>requirements.txt"
   ]
  },
  {
   "cell_type": "code",
   "execution_count": 22,
   "id": "af7cc0f9",
   "metadata": {
    "scrolled": true
   },
   "outputs": [
    {
     "data": {
      "text/html": [
       "<div>\n",
       "<style scoped>\n",
       "    .dataframe tbody tr th:only-of-type {\n",
       "        vertical-align: middle;\n",
       "    }\n",
       "\n",
       "    .dataframe tbody tr th {\n",
       "        vertical-align: top;\n",
       "    }\n",
       "\n",
       "    .dataframe thead th {\n",
       "        text-align: right;\n",
       "    }\n",
       "</style>\n",
       "<table border=\"1\" class=\"dataframe\">\n",
       "  <thead>\n",
       "    <tr style=\"text-align: right;\">\n",
       "      <th></th>\n",
       "      <th>name</th>\n",
       "      <th>age</th>\n",
       "    </tr>\n",
       "  </thead>\n",
       "  <tbody>\n",
       "    <tr>\n",
       "      <th>0</th>\n",
       "      <td>karim a</td>\n",
       "      <td>22</td>\n",
       "    </tr>\n",
       "    <tr>\n",
       "      <th>1</th>\n",
       "      <td>karim v</td>\n",
       "      <td>22</td>\n",
       "    </tr>\n",
       "    <tr>\n",
       "      <th>2</th>\n",
       "      <td>karim b</td>\n",
       "      <td>22</td>\n",
       "    </tr>\n",
       "    <tr>\n",
       "      <th>3</th>\n",
       "      <td>karim c</td>\n",
       "      <td>23</td>\n",
       "    </tr>\n",
       "    <tr>\n",
       "      <th>4</th>\n",
       "      <td>karim d</td>\n",
       "      <td>23</td>\n",
       "    </tr>\n",
       "    <tr>\n",
       "      <th>5</th>\n",
       "      <td>mehedi</td>\n",
       "      <td>23</td>\n",
       "    </tr>\n",
       "    <tr>\n",
       "      <th>6</th>\n",
       "      <td>mahim</td>\n",
       "      <td>13</td>\n",
       "    </tr>\n",
       "  </tbody>\n",
       "</table>\n",
       "</div>"
      ],
      "text/plain": [
       "      name  age\n",
       "0  karim a   22\n",
       "1  karim v   22\n",
       "2  karim b   22\n",
       "3  karim c   23\n",
       "4  karim d   23\n",
       "5   mehedi   23\n",
       "6    mahim   13"
      ]
     },
     "execution_count": 22,
     "metadata": {},
     "output_type": "execute_result"
    }
   ],
   "source": [
    "import pandas as pd\n",
    "pd.read_excel('dataset/sampledataset.xlsx')\n"
   ]
  },
  {
   "cell_type": "markdown",
   "id": "1b787d81",
   "metadata": {},
   "source": [
    "# spark session"
   ]
  },
  {
   "cell_type": "code",
   "execution_count": 7,
   "id": "51bb7964",
   "metadata": {},
   "outputs": [],
   "source": [
    " from pyspark.sql import SparkSession"
   ]
  },
  {
   "cell_type": "code",
   "execution_count": 23,
   "id": "c588e639",
   "metadata": {
    "scrolled": true
   },
   "outputs": [],
   "source": [
    "spark = SparkSession.builder.appName('Intro').getOrCreate()"
   ]
  },
  {
   "cell_type": "code",
   "execution_count": 24,
   "id": "bbd8073d",
   "metadata": {
    "scrolled": true
   },
   "outputs": [
    {
     "data": {
      "text/html": [
       "\n",
       "            <div>\n",
       "                <p><b>SparkSession - in-memory</b></p>\n",
       "                \n",
       "        <div>\n",
       "            <p><b>SparkContext</b></p>\n",
       "\n",
       "            <p><a href=\"http://DESKTOP-8SJANMQ:4040\">Spark UI</a></p>\n",
       "\n",
       "            <dl>\n",
       "              <dt>Version</dt>\n",
       "                <dd><code>v3.1.2</code></dd>\n",
       "              <dt>Master</dt>\n",
       "                <dd><code>local[*]</code></dd>\n",
       "              <dt>AppName</dt>\n",
       "                <dd><code>Intro</code></dd>\n",
       "            </dl>\n",
       "        </div>\n",
       "        \n",
       "            </div>\n",
       "        "
      ],
      "text/plain": [
       "<pyspark.sql.session.SparkSession at 0x1aace07f1d0>"
      ]
     },
     "execution_count": 24,
     "metadata": {},
     "output_type": "execute_result"
    }
   ],
   "source": [
    "spark"
   ]
  },
  {
   "cell_type": "code",
   "execution_count": 18,
   "id": "893d9e3a",
   "metadata": {},
   "outputs": [
    {
     "name": "stdout",
     "output_type": "stream",
     "text": [
      "+-------+---+\n",
      "|    _c0|_c1|\n",
      "+-------+---+\n",
      "|   name|age|\n",
      "|karim a| 22|\n",
      "|karim v| 22|\n",
      "|karim b| 22|\n",
      "|karim c| 23|\n",
      "|karim d| 23|\n",
      "| mehedi| 23|\n",
      "|  mahim| 13|\n",
      "+-------+---+\n",
      "\n"
     ]
    }
   ],
   "source": [
    "# def_pyspark=spark.read.csv('dataset/sampledataset.csv')\n",
    "# def_pyspark.show()"
   ]
  },
  {
   "cell_type": "markdown",
   "id": "0a6642e7",
   "metadata": {},
   "source": [
    "first row value will consider header by option() function"
   ]
  },
  {
   "cell_type": "code",
   "execution_count": 25,
   "id": "932a7082",
   "metadata": {},
   "outputs": [],
   "source": [
    "df_pyspark = spark.read.option('header','true').csv('dataset/sampledataset.csv')"
   ]
  },
  {
   "cell_type": "code",
   "execution_count": 26,
   "id": "2ea3eca1",
   "metadata": {},
   "outputs": [
    {
     "name": "stdout",
     "output_type": "stream",
     "text": [
      "+-------+---+----------+\n",
      "|   name|age|experience|\n",
      "+-------+---+----------+\n",
      "|karim a| 22|         1|\n",
      "|karim v| 22|         3|\n",
      "|karim b| 22|         4|\n",
      "|karim c| 23|         2|\n",
      "|karim d| 23|         1|\n",
      "| mehedi| 23|         2|\n",
      "|  mahim| 13|         2|\n",
      "+-------+---+----------+\n",
      "\n"
     ]
    }
   ],
   "source": [
    "df_pyspark.show()"
   ]
  },
  {
   "cell_type": "code",
   "execution_count": 13,
   "id": "5b6341a5",
   "metadata": {},
   "outputs": [
    {
     "data": {
      "text/plain": [
       "pyspark.sql.dataframe.DataFrame"
      ]
     },
     "execution_count": 13,
     "metadata": {},
     "output_type": "execute_result"
    }
   ],
   "source": [
    "type(df_pyspark)"
   ]
  },
  {
   "cell_type": "code",
   "execution_count": 14,
   "id": "e1a037fa",
   "metadata": {},
   "outputs": [
    {
     "data": {
      "text/plain": [
       "[Row(name='karim a', age='22'), Row(name='karim v', age='22')]"
      ]
     },
     "execution_count": 14,
     "metadata": {},
     "output_type": "execute_result"
    }
   ],
   "source": [
    "df_pyspark.head(2) #show first 2 row"
   ]
  },
  {
   "cell_type": "code",
   "execution_count": 15,
   "id": "ec50020b",
   "metadata": {},
   "outputs": [
    {
     "name": "stdout",
     "output_type": "stream",
     "text": [
      "root\n",
      " |-- name: string (nullable = true)\n",
      " |-- age: string (nullable = true)\n",
      "\n"
     ]
    }
   ],
   "source": [
    "df_pyspark.printSchema() #show column variable type"
   ]
  },
  {
   "cell_type": "markdown",
   "id": "8b088b6c",
   "metadata": {},
   "source": [
    "## read the dataset"
   ]
  },
  {
   "cell_type": "code",
   "execution_count": 34,
   "id": "0f030dfe",
   "metadata": {},
   "outputs": [
    {
     "name": "stdout",
     "output_type": "stream",
     "text": [
      "+-------+---+----------+\n",
      "|   name|age|experience|\n",
      "+-------+---+----------+\n",
      "|karim a| 22|         1|\n",
      "|karim v| 22|         3|\n",
      "|karim b| 22|         4|\n",
      "|karim c| 23|         2|\n",
      "|karim d| 23|         1|\n",
      "| mehedi| 23|         2|\n",
      "|  mahim| 13|         2|\n",
      "+-------+---+----------+\n",
      "\n"
     ]
    }
   ],
   "source": [
    "from pyspark.sql import SparkSession\n",
    "session = SparkSession.builder.appName('Practice').getOrCreate()\n",
    "\n",
    "# df = session.read.option('header','true').csv('dataset/sampledataset.csv',inferSchema=True) \n",
    "df = session.read.csv('dataset/sampledataset.csv',header = True, inferSchema=True)\n",
    "#if i did not use inferschema = True then all value will be string. \n",
    "df.show()"
   ]
  },
  {
   "cell_type": "markdown",
   "id": "c4ddf2cc",
   "metadata": {},
   "source": [
    "## Check the schema"
   ]
  },
  {
   "cell_type": "code",
   "execution_count": 35,
   "id": "8c34f577",
   "metadata": {},
   "outputs": [
    {
     "name": "stdout",
     "output_type": "stream",
     "text": [
      "root\n",
      " |-- name: string (nullable = true)\n",
      " |-- age: integer (nullable = true)\n",
      " |-- experience: integer (nullable = true)\n",
      "\n"
     ]
    }
   ],
   "source": [
    "df.printSchema() # "
   ]
  },
  {
   "cell_type": "markdown",
   "id": "9f7a2b02",
   "metadata": {},
   "source": [
    "## show column name"
   ]
  },
  {
   "cell_type": "code",
   "execution_count": 36,
   "id": "6cf99d1a",
   "metadata": {},
   "outputs": [
    {
     "data": {
      "text/plain": [
       "['name', 'age', 'experience']"
      ]
     },
     "execution_count": 36,
     "metadata": {},
     "output_type": "execute_result"
    }
   ],
   "source": [
    "df.columns"
   ]
  },
  {
   "cell_type": "markdown",
   "id": "2e6d6f68",
   "metadata": {},
   "source": [
    "## pickup specific column"
   ]
  },
  {
   "cell_type": "code",
   "execution_count": 37,
   "id": "2a068490",
   "metadata": {},
   "outputs": [
    {
     "name": "stdout",
     "output_type": "stream",
     "text": [
      "+-------+\n",
      "|   name|\n",
      "+-------+\n",
      "|karim a|\n",
      "|karim v|\n",
      "|karim b|\n",
      "|karim c|\n",
      "|karim d|\n",
      "| mehedi|\n",
      "|  mahim|\n",
      "+-------+\n",
      "\n"
     ]
    }
   ],
   "source": [
    "\n",
    "df.select('name').show()"
   ]
  },
  {
   "cell_type": "code",
   "execution_count": 38,
   "id": "e3321219",
   "metadata": {},
   "outputs": [
    {
     "name": "stdout",
     "output_type": "stream",
     "text": [
      "+-------+---+\n",
      "|   name|age|\n",
      "+-------+---+\n",
      "|karim a| 22|\n",
      "|karim v| 22|\n",
      "|karim b| 22|\n",
      "|karim c| 23|\n",
      "|karim d| 23|\n",
      "| mehedi| 23|\n",
      "|  mahim| 13|\n",
      "+-------+---+\n",
      "\n"
     ]
    }
   ],
   "source": [
    "df.select(['name','age']).show() #multiple column"
   ]
  },
  {
   "cell_type": "markdown",
   "id": "fd4fcea8",
   "metadata": {},
   "source": [
    "## deta types"
   ]
  },
  {
   "cell_type": "code",
   "execution_count": 39,
   "id": "7c87adcf",
   "metadata": {},
   "outputs": [
    {
     "data": {
      "text/plain": [
       "[('name', 'string'), ('age', 'int'), ('experience', 'int')]"
      ]
     },
     "execution_count": 39,
     "metadata": {},
     "output_type": "execute_result"
    }
   ],
   "source": [
    "df.dtypes #show all column datatype"
   ]
  },
  {
   "cell_type": "markdown",
   "id": "a622ac0c",
   "metadata": {},
   "source": [
    "## describe "
   ]
  },
  {
   "cell_type": "code",
   "execution_count": 41,
   "id": "ef5b4c78",
   "metadata": {},
   "outputs": [
    {
     "name": "stdout",
     "output_type": "stream",
     "text": [
      "+-------+-------+------------------+------------------+\n",
      "|summary|   name|               age|        experience|\n",
      "+-------+-------+------------------+------------------+\n",
      "|  count|      7|                 7|                 7|\n",
      "|   mean|   null|21.142857142857142| 2.142857142857143|\n",
      "| stddev|   null|3.6253078686998625|1.0690449676496976|\n",
      "|    min|karim a|                13|                 1|\n",
      "|    max| mehedi|                23|                 4|\n",
      "+-------+-------+------------------+------------------+\n",
      "\n"
     ]
    }
   ],
   "source": [
    "df.describe().show()"
   ]
  },
  {
   "cell_type": "markdown",
   "id": "89870673",
   "metadata": {},
   "source": [
    "## adding column"
   ]
  },
  {
   "cell_type": "code",
   "execution_count": 44,
   "id": "b66c7e1b",
   "metadata": {},
   "outputs": [
    {
     "name": "stdout",
     "output_type": "stream",
     "text": [
      "+-------+---+----------+------------------------+\n",
      "|   name|age|experience|Experience after 2 years|\n",
      "+-------+---+----------+------------------------+\n",
      "|karim a| 22|         1|                       3|\n",
      "|karim v| 22|         3|                       5|\n",
      "|karim b| 22|         4|                       6|\n",
      "|karim c| 23|         2|                       4|\n",
      "|karim d| 23|         1|                       3|\n",
      "| mehedi| 23|         2|                       4|\n",
      "|  mahim| 13|         2|                       4|\n",
      "+-------+---+----------+------------------------+\n",
      "\n"
     ]
    }
   ],
   "source": [
    "df = df.withColumn('Experience after 2 years',df['experience']+2)\n",
    "df.show()"
   ]
  },
  {
   "cell_type": "markdown",
   "id": "3ff630a6",
   "metadata": {},
   "source": [
    "## Drop the column"
   ]
  },
  {
   "cell_type": "code",
   "execution_count": 49,
   "id": "6a48e022",
   "metadata": {},
   "outputs": [
    {
     "name": "stdout",
     "output_type": "stream",
     "text": [
      "+-------+---+----------+\n",
      "|   name|age|experience|\n",
      "+-------+---+----------+\n",
      "|karim a| 22|         1|\n",
      "|karim v| 22|         3|\n",
      "|karim b| 22|         4|\n",
      "|karim c| 23|         2|\n",
      "|karim d| 23|         1|\n",
      "| mehedi| 23|         2|\n",
      "|  mahim| 13|         2|\n",
      "+-------+---+----------+\n",
      "\n"
     ]
    }
   ],
   "source": [
    "df = df.drop('Experience after 2 years')\n",
    "df.show()"
   ]
  },
  {
   "cell_type": "markdown",
   "id": "26b60471",
   "metadata": {},
   "source": [
    "## Rename the column name"
   ]
  },
  {
   "cell_type": "code",
   "execution_count": 51,
   "id": "8bcec825",
   "metadata": {},
   "outputs": [
    {
     "name": "stdout",
     "output_type": "stream",
     "text": [
      "+-------+---+----------+\n",
      "|   Name|age|experience|\n",
      "+-------+---+----------+\n",
      "|karim a| 22|         1|\n",
      "|karim v| 22|         3|\n",
      "|karim b| 22|         4|\n",
      "|karim c| 23|         2|\n",
      "|karim d| 23|         1|\n",
      "| mehedi| 23|         2|\n",
      "|  mahim| 13|         2|\n",
      "+-------+---+----------+\n",
      "\n"
     ]
    }
   ],
   "source": [
    "df = df.withColumnRenamed('name','Name')\n",
    "df.show()"
   ]
  },
  {
   "cell_type": "code",
   "execution_count": null,
   "id": "8d5e5256",
   "metadata": {},
   "outputs": [],
   "source": []
  },
  {
   "cell_type": "code",
   "execution_count": null,
   "id": "9b862edb",
   "metadata": {},
   "outputs": [],
   "source": []
  },
  {
   "cell_type": "code",
   "execution_count": null,
   "id": "a02f67a0",
   "metadata": {},
   "outputs": [],
   "source": []
  },
  {
   "cell_type": "code",
   "execution_count": null,
   "id": "315baf45",
   "metadata": {},
   "outputs": [],
   "source": []
  },
  {
   "cell_type": "code",
   "execution_count": null,
   "id": "765052ac",
   "metadata": {},
   "outputs": [],
   "source": []
  },
  {
   "cell_type": "code",
   "execution_count": null,
   "id": "e6757084",
   "metadata": {},
   "outputs": [],
   "source": []
  },
  {
   "cell_type": "code",
   "execution_count": null,
   "id": "582ae05a",
   "metadata": {},
   "outputs": [],
   "source": []
  },
  {
   "cell_type": "code",
   "execution_count": null,
   "id": "70fc4083",
   "metadata": {},
   "outputs": [],
   "source": []
  },
  {
   "cell_type": "code",
   "execution_count": null,
   "id": "74f37911",
   "metadata": {},
   "outputs": [],
   "source": []
  },
  {
   "cell_type": "code",
   "execution_count": null,
   "id": "6dbabae5",
   "metadata": {},
   "outputs": [],
   "source": []
  },
  {
   "cell_type": "code",
   "execution_count": null,
   "id": "e1016ecf",
   "metadata": {},
   "outputs": [],
   "source": []
  },
  {
   "cell_type": "code",
   "execution_count": null,
   "id": "46e29403",
   "metadata": {},
   "outputs": [],
   "source": []
  },
  {
   "cell_type": "code",
   "execution_count": null,
   "id": "d49abb8b",
   "metadata": {},
   "outputs": [],
   "source": []
  },
  {
   "cell_type": "code",
   "execution_count": null,
   "id": "5c6ee0bc",
   "metadata": {},
   "outputs": [],
   "source": []
  },
  {
   "cell_type": "code",
   "execution_count": null,
   "id": "7e449e3d",
   "metadata": {},
   "outputs": [],
   "source": []
  },
  {
   "cell_type": "code",
   "execution_count": null,
   "id": "9beff0dc",
   "metadata": {},
   "outputs": [],
   "source": []
  },
  {
   "cell_type": "code",
   "execution_count": null,
   "id": "333defdd",
   "metadata": {},
   "outputs": [],
   "source": []
  },
  {
   "cell_type": "code",
   "execution_count": null,
   "id": "0ddac46b",
   "metadata": {},
   "outputs": [],
   "source": []
  },
  {
   "cell_type": "code",
   "execution_count": null,
   "id": "d9674fc7",
   "metadata": {},
   "outputs": [],
   "source": []
  },
  {
   "cell_type": "code",
   "execution_count": null,
   "id": "3abdca02",
   "metadata": {},
   "outputs": [],
   "source": []
  },
  {
   "cell_type": "code",
   "execution_count": null,
   "id": "13a1a963",
   "metadata": {},
   "outputs": [],
   "source": []
  },
  {
   "cell_type": "code",
   "execution_count": null,
   "id": "58bb634a",
   "metadata": {},
   "outputs": [],
   "source": []
  },
  {
   "cell_type": "code",
   "execution_count": null,
   "id": "693e1f5f",
   "metadata": {},
   "outputs": [],
   "source": []
  },
  {
   "cell_type": "code",
   "execution_count": null,
   "id": "1b3ae9ce",
   "metadata": {},
   "outputs": [],
   "source": []
  },
  {
   "cell_type": "code",
   "execution_count": null,
   "id": "f8ca4524",
   "metadata": {},
   "outputs": [],
   "source": []
  },
  {
   "cell_type": "code",
   "execution_count": null,
   "id": "a11efb98",
   "metadata": {},
   "outputs": [],
   "source": []
  },
  {
   "cell_type": "code",
   "execution_count": null,
   "id": "208d3d33",
   "metadata": {},
   "outputs": [],
   "source": []
  },
  {
   "cell_type": "code",
   "execution_count": null,
   "id": "c8310bcd",
   "metadata": {},
   "outputs": [],
   "source": []
  },
  {
   "cell_type": "code",
   "execution_count": null,
   "id": "712ef643",
   "metadata": {},
   "outputs": [],
   "source": []
  },
  {
   "cell_type": "code",
   "execution_count": null,
   "id": "7f250ce4",
   "metadata": {},
   "outputs": [],
   "source": []
  },
  {
   "cell_type": "code",
   "execution_count": null,
   "id": "f933d160",
   "metadata": {},
   "outputs": [],
   "source": []
  }
 ],
 "metadata": {
  "kernelspec": {
   "display_name": "myvenv",
   "language": "python",
   "name": "myvenv"
  },
  "language_info": {
   "codemirror_mode": {
    "name": "ipython",
    "version": 3
   },
   "file_extension": ".py",
   "mimetype": "text/x-python",
   "name": "python",
   "nbconvert_exporter": "python",
   "pygments_lexer": "ipython3",
   "version": "3.7.3"
  },
  "toc": {
   "base_numbering": 1,
   "nav_menu": {},
   "number_sections": true,
   "sideBar": true,
   "skip_h1_title": false,
   "title_cell": "Table of Contents",
   "title_sidebar": "Contents",
   "toc_cell": false,
   "toc_position": {},
   "toc_section_display": true,
   "toc_window_display": false
  }
 },
 "nbformat": 4,
 "nbformat_minor": 5
}
