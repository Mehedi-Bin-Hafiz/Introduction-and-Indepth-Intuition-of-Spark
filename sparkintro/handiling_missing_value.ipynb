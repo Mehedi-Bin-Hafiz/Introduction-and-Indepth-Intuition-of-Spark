{
 "cells": [
  {
   "cell_type": "code",
   "execution_count": 22,
   "id": "ff3c949b",
   "metadata": {},
   "outputs": [],
   "source": [
    "from pyspark.sql import SparkSession\n",
    "session = SparkSession.builder.appName('HandlingMissing').getOrCreate()"
   ]
  },
  {
   "cell_type": "code",
   "execution_count": 23,
   "id": "253daead",
   "metadata": {},
   "outputs": [
    {
     "name": "stdout",
     "output_type": "stream",
     "text": [
      "+-------+----+----------+------+\n",
      "|   name| age|experience|salary|\n",
      "+-------+----+----------+------+\n",
      "|karim a|  22|       1.0|  3333|\n",
      "|karim v|  22|       3.0|  4444|\n",
      "|karim b|  22|       4.0|  3333|\n",
      "|karim c|  23|       2.0|  2222|\n",
      "|karim d|  23|       1.0|  5555|\n",
      "| mehedi|  23|       2.0|  1111|\n",
      "|  mahim|  13|      null|  null|\n",
      "|   null|  12|       2.0|  3333|\n",
      "|   null|  36|      null|  null|\n",
      "|   null|null|      null|  null|\n",
      "+-------+----+----------+------+\n",
      "\n"
     ]
    }
   ],
   "source": [
    "df = session.read.csv('dataset/missingdataset.csv', header= True, inferSchema= True)\n",
    "df.show()"
   ]
  },
  {
   "cell_type": "code",
   "execution_count": 24,
   "id": "8c95cc59",
   "metadata": {},
   "outputs": [],
   "source": [
    "## droping the null value"
   ]
  },
  {
   "cell_type": "code",
   "execution_count": 25,
   "id": "b6e73ed2",
   "metadata": {},
   "outputs": [
    {
     "name": "stdout",
     "output_type": "stream",
     "text": [
      "+-------+---+----------+------+\n",
      "|   name|age|experience|salary|\n",
      "+-------+---+----------+------+\n",
      "|karim a| 22|       1.0|  3333|\n",
      "|karim v| 22|       3.0|  4444|\n",
      "|karim b| 22|       4.0|  3333|\n",
      "|karim c| 23|       2.0|  2222|\n",
      "|karim d| 23|       1.0|  5555|\n",
      "| mehedi| 23|       2.0|  1111|\n",
      "+-------+---+----------+------+\n",
      "\n"
     ]
    }
   ],
   "source": [
    "df.na.drop().show() # if we use only drop then all null row will be removed"
   ]
  },
  {
   "cell_type": "code",
   "execution_count": 26,
   "id": "d061f9e7",
   "metadata": {},
   "outputs": [
    {
     "name": "stdout",
     "output_type": "stream",
     "text": [
      "+-------+---+----------+------+\n",
      "|   name|age|experience|salary|\n",
      "+-------+---+----------+------+\n",
      "|karim a| 22|       1.0|  3333|\n",
      "|karim v| 22|       3.0|  4444|\n",
      "|karim b| 22|       4.0|  3333|\n",
      "|karim c| 23|       2.0|  2222|\n",
      "|karim d| 23|       1.0|  5555|\n",
      "| mehedi| 23|       2.0|  1111|\n",
      "+-------+---+----------+------+\n",
      "\n",
      "+-------+---+----------+------+\n",
      "|   name|age|experience|salary|\n",
      "+-------+---+----------+------+\n",
      "|karim a| 22|       1.0|  3333|\n",
      "|karim v| 22|       3.0|  4444|\n",
      "|karim b| 22|       4.0|  3333|\n",
      "|karim c| 23|       2.0|  2222|\n",
      "|karim d| 23|       1.0|  5555|\n",
      "| mehedi| 23|       2.0|  1111|\n",
      "|  mahim| 13|      null|  null|\n",
      "|   null| 12|       2.0|  3333|\n",
      "|   null| 36|      null|  null|\n",
      "+-------+---+----------+------+\n",
      "\n"
     ]
    }
   ],
   "source": [
    "## any = how\n",
    "df.na.drop(how='any').show() # if any row contains null then removed\n",
    "df.na.drop(how = 'all').show() #if all column contains null then removed\n"
   ]
  },
  {
   "cell_type": "code",
   "execution_count": 30,
   "id": "a927096e",
   "metadata": {},
   "outputs": [
    {
     "name": "stdout",
     "output_type": "stream",
     "text": [
      "+-------+---+----------+------+\n",
      "|   name|age|experience|salary|\n",
      "+-------+---+----------+------+\n",
      "|karim a| 22|       1.0|  3333|\n",
      "|karim v| 22|       3.0|  4444|\n",
      "|karim b| 22|       4.0|  3333|\n",
      "|karim c| 23|       2.0|  2222|\n",
      "|karim d| 23|       1.0|  5555|\n",
      "| mehedi| 23|       2.0|  1111|\n",
      "|  mahim| 13|      null|  null|\n",
      "|   null| 12|       2.0|  3333|\n",
      "+-------+---+----------+------+\n",
      "\n"
     ]
    }
   ],
   "source": [
    "## threshold\n",
    "df.na.drop(how='any',thresh=2).show() # if at least 2 non null value is exist then not removed otherwise removed"
   ]
  },
  {
   "cell_type": "code",
   "execution_count": 31,
   "id": "d1e4fcf9",
   "metadata": {},
   "outputs": [
    {
     "name": "stdout",
     "output_type": "stream",
     "text": [
      "+-------+---+----------+------+\n",
      "|   name|age|experience|salary|\n",
      "+-------+---+----------+------+\n",
      "|karim a| 22|       1.0|  3333|\n",
      "|karim v| 22|       3.0|  4444|\n",
      "|karim b| 22|       4.0|  3333|\n",
      "|karim c| 23|       2.0|  2222|\n",
      "|karim d| 23|       1.0|  5555|\n",
      "| mehedi| 23|       2.0|  1111|\n",
      "|   null| 12|       2.0|  3333|\n",
      "+-------+---+----------+------+\n",
      "\n"
     ]
    }
   ],
   "source": [
    "## sbuset\n",
    "df.na.drop(how='any',subset=['experience']).show() # where ever expericenc column contains null value whole row is removed.\n"
   ]
  },
  {
   "cell_type": "code",
   "execution_count": 35,
   "id": "455b7b12",
   "metadata": {},
   "outputs": [
    {
     "name": "stdout",
     "output_type": "stream",
     "text": [
      "+-------+----+----------+------+\n",
      "|   name| age|experience|salary|\n",
      "+-------+----+----------+------+\n",
      "|karim a|  22|       1.0|  3333|\n",
      "|karim v|  22|       3.0|  4444|\n",
      "|karim b|  22|       4.0|  3333|\n",
      "|karim c|  23|       2.0|  2222|\n",
      "|karim d|  23|       1.0|  5555|\n",
      "| mehedi|  23|       2.0|  1111|\n",
      "|  mahim|  13|      null|  null|\n",
      "|missing|  12|       2.0|  3333|\n",
      "|missing|  36|      null|  null|\n",
      "|missing|null|      null|  null|\n",
      "+-------+----+----------+------+\n",
      "\n",
      "+-------+---+----------+------+\n",
      "|   name|age|experience|salary|\n",
      "+-------+---+----------+------+\n",
      "|karim a| 22|       1.0|  3333|\n",
      "|karim v| 22|       3.0|  4444|\n",
      "|karim b| 22|       4.0|  3333|\n",
      "|karim c| 23|       2.0|  2222|\n",
      "|karim d| 23|       1.0|  5555|\n",
      "| mehedi| 23|       2.0|  1111|\n",
      "|  mahim| 13|       0.0|     0|\n",
      "|   null| 12|       2.0|  3333|\n",
      "|   null| 36|       0.0|     0|\n",
      "|   null|  0|       0.0|     0|\n",
      "+-------+---+----------+------+\n",
      "\n"
     ]
    }
   ],
   "source": [
    "## filling the missing value\n",
    "df.na.fill('missing').show() #all string null converted by missing \n",
    "df.na.fill(0).show()# all integer null converted by 0"
   ]
  },
  {
   "cell_type": "code",
   "execution_count": 41,
   "id": "7674ac0d",
   "metadata": {},
   "outputs": [
    {
     "name": "stdout",
     "output_type": "stream",
     "text": [
      "+-------+---+----------+------+\n",
      "|   name|age|experience|salary|\n",
      "+-------+---+----------+------+\n",
      "|karim a| 22|       1.0|  3333|\n",
      "|karim v| 22|       3.0|  4444|\n",
      "|karim b| 22|       4.0|  3333|\n",
      "|karim c| 23|       2.0|  2222|\n",
      "|karim d| 23|       1.0|  5555|\n",
      "| mehedi| 23|       2.0|  1111|\n",
      "|  mahim| 13|       0.0|     0|\n",
      "|   null| 12|       2.0|  3333|\n",
      "|   null| 36|       0.0|     0|\n",
      "|   null|  0|       0.0|     0|\n",
      "+-------+---+----------+------+\n",
      "\n"
     ]
    }
   ],
   "source": [
    "## replace null by specific column\n",
    "\n",
    "df.na.fill(0,['age','experience','salary']).show() # data type  of replacabe column and replacable value must be same"
   ]
  },
  {
   "cell_type": "code",
   "execution_count": 52,
   "id": "4146d6f0",
   "metadata": {},
   "outputs": [],
   "source": [
    "# fill null value by mean of column\n",
    "\n",
    "from pyspark.ml.feature import Imputer\n",
    "\n",
    "imputer = Imputer(\n",
    "inputCols=['age','experience','salary'],\n",
    "outputCols = [\"{}_imputed\".format(c) for c in ['age','experience','salary']]\n",
    ").setStrategy('mean')\n"
   ]
  },
  {
   "cell_type": "code",
   "execution_count": 48,
   "id": "3c5f2403",
   "metadata": {},
   "outputs": [
    {
     "name": "stdout",
     "output_type": "stream",
     "text": [
      "+-------+----+----------+------+-----------+------------------+--------------+\n",
      "|   name| age|experience|salary|age_imputed|experience_imputed|salary_imputed|\n",
      "+-------+----+----------+------+-----------+------------------+--------------+\n",
      "|karim a|  22|       1.0|  3333|         22|               1.0|          3333|\n",
      "|karim v|  22|       3.0|  4444|         22|               3.0|          4444|\n",
      "|karim b|  22|       4.0|  3333|         22|               4.0|          3333|\n",
      "|karim c|  23|       2.0|  2222|         23|               2.0|          2222|\n",
      "|karim d|  23|       1.0|  5555|         23|               1.0|          5555|\n",
      "| mehedi|  23|       2.0|  1111|         23|               2.0|          1111|\n",
      "|  mahim|  13|      null|  null|         13| 2.142857142857143|          3333|\n",
      "|   null|  12|       2.0|  3333|         12|               2.0|          3333|\n",
      "|   null|  36|      null|  null|         36| 2.142857142857143|          3333|\n",
      "|   null|null|      null|  null|         21| 2.142857142857143|          3333|\n",
      "+-------+----+----------+------+-----------+------------------+--------------+\n",
      "\n"
     ]
    }
   ],
   "source": [
    "# add imputation cols to df\n",
    "\n",
    "imputer.fit(df).transform(df).show()"
   ]
  },
  {
   "cell_type": "code",
   "execution_count": null,
   "id": "ea31c617",
   "metadata": {},
   "outputs": [],
   "source": []
  },
  {
   "cell_type": "code",
   "execution_count": null,
   "id": "d661583e",
   "metadata": {},
   "outputs": [],
   "source": []
  },
  {
   "cell_type": "code",
   "execution_count": null,
   "id": "4b7627c7",
   "metadata": {},
   "outputs": [],
   "source": []
  },
  {
   "cell_type": "code",
   "execution_count": null,
   "id": "df75cb3f",
   "metadata": {},
   "outputs": [],
   "source": []
  },
  {
   "cell_type": "code",
   "execution_count": null,
   "id": "7e137df8",
   "metadata": {},
   "outputs": [],
   "source": []
  },
  {
   "cell_type": "code",
   "execution_count": null,
   "id": "7eb48bbf",
   "metadata": {},
   "outputs": [],
   "source": []
  },
  {
   "cell_type": "code",
   "execution_count": null,
   "id": "01589e48",
   "metadata": {},
   "outputs": [],
   "source": []
  },
  {
   "cell_type": "code",
   "execution_count": null,
   "id": "8387b643",
   "metadata": {},
   "outputs": [],
   "source": []
  },
  {
   "cell_type": "code",
   "execution_count": null,
   "id": "0879edf1",
   "metadata": {},
   "outputs": [],
   "source": []
  },
  {
   "cell_type": "code",
   "execution_count": null,
   "id": "6f0808be",
   "metadata": {},
   "outputs": [],
   "source": []
  }
 ],
 "metadata": {
  "kernelspec": {
   "display_name": "myvenv",
   "language": "python",
   "name": "myvenv"
  },
  "language_info": {
   "codemirror_mode": {
    "name": "ipython",
    "version": 3
   },
   "file_extension": ".py",
   "mimetype": "text/x-python",
   "name": "python",
   "nbconvert_exporter": "python",
   "pygments_lexer": "ipython3",
   "version": "3.7.3"
  },
  "toc": {
   "base_numbering": 1,
   "nav_menu": {},
   "number_sections": true,
   "sideBar": true,
   "skip_h1_title": false,
   "title_cell": "Table of Contents",
   "title_sidebar": "Contents",
   "toc_cell": false,
   "toc_position": {},
   "toc_section_display": true,
   "toc_window_display": false
  }
 },
 "nbformat": 4,
 "nbformat_minor": 5
}
